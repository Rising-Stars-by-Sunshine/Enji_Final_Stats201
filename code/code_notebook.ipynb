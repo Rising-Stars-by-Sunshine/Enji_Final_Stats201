{
 "cells": [
  {
   "cell_type": "markdown",
   "id": "1a52234a",
   "metadata": {},
   "source": [
    "# ESG EDA Notebook (World Bank via Hugging Face)\n",
    "\n",
    "This notebook loads the **Global Environment–Social–Governance** dataset from Hugging Face, performs **basic EDA**, checks **missing values**, and renders a few **simple visualizations**.\n",
    "\n",
    "**Dataset**: `Mahadih534/Global_Environment-Social-And-Governance-Data`\n",
    "**File**: `ESGCSV.csv` (World Bank–style wide format)\n",
    "\n",
    "> Tip: You can run this in Google Colab or GitHub Codespaces Jupyter."
   ]
  },
  {
   "cell_type": "code",
   "execution_count": null,
   "id": "77617103",
   "metadata": {},
   "outputs": [],
   "source": [
    "import pandas as pd\n",
    "import numpy as np\n",
    "import matplotlib.pyplot as plt\n",
    "\n",
    "pd.set_option('display.max_columns', 100)\n"
   ]
  },
  {
   "cell_type": "markdown",
   "id": "061aa3cb",
   "metadata": {},
   "source": [
    "## Load dataset"
   ]
  },
  {
   "cell_type": "code",
   "execution_count": null,
   "id": "296a3ccc",
   "metadata": {},
   "outputs": [],
   "source": [
    "try:\n",
    "    # Directly from Hugging Face using fsspec-style URI\n",
    "    df = pd.read_csv('hf://datasets/Mahadih534/Global_Environment-Social-And-Governance-Data/ESGCSV.csv')\n",
    "    source_used = 'pandas hf:// URI'\n",
    "except Exception as e:\n",
    "    print('hf:// load failed, falling back to datasets library. Error:', e)\n",
    "    try:\n",
    "        from datasets import load_dataset\n",
    "        ds = load_dataset('Mahadih534/Global_Environment-Social-And-Governance-Data')\n",
    "        df = pd.DataFrame(ds['train'])\n",
    "        source_used = 'datasets.load_dataset'\n",
    "    except Exception as e2:\n",
    "        raise RuntimeError('Failed to load dataset via both methods.')\n",
    "\n",
    "print('Loaded via:', source_used)\n",
    "print('Shape:', df.shape)\n",
    "print('Columns:', list(df.columns)[:12], '...')\n",
    "df.head()"
   ]
  },
  {
   "cell_type": "markdown",
   "id": "617922ee",
   "metadata": {},
   "source": [
    "## Tidy the data (wide → long)"
   ]
  },
  {
   "cell_type": "code",
   "execution_count": null,
   "id": "e093ae6a",
   "metadata": {},
   "outputs": [],
   "source": [
    "# Detect year columns (e.g., '1990', '1991', ...)\n",
    "year_cols = [c for c in df.columns if str(c).isdigit()]\n",
    "meta_cols = [c for c in df.columns if c not in year_cols]\n",
    "if not year_cols:\n",
    "    raise ValueError('No year columns detected; check the dataset structure.')\n",
    "\n",
    "tidy = df.melt(id_vars=meta_cols, value_vars=year_cols,\n",
    "               var_name='Year', value_name='Value')\n",
    "tidy['Year'] = pd.to_numeric(tidy['Year'], errors='coerce')\n",
    "tidy = tidy.dropna(subset=['Year'])\n",
    "\n",
    "# Standardize column names where possible\n",
    "rename_map = {\n",
    "    'Country Name': 'Country_Name',\n",
    "    'Country Code': 'Country_Code',\n",
    "    'Indicator Name': 'Indicator_Name',\n",
    "    'Indicator Code': 'Indicator_Code'\n",
    "}\n",
    "tidy = tidy.rename(columns=rename_map)\n",
    "\n",
    "print('Tidy shape:', tidy.shape)\n",
    "tidy.head()"
   ]
  },
  {
   "cell_type": "markdown",
   "id": "b8e154dd",
   "metadata": {},
   "source": [
    "## Missing data check"
   ]
  },
  {
   "cell_type": "code",
   "execution_count": null,
   "id": "38ff5ed7",
   "metadata": {},
   "outputs": [],
   "source": [
    "# Missingness by indicator\n",
    "missing_by_indicator = tidy.groupby('Indicator_Code')['Value'].apply(lambda s: s.isna().mean()).sort_values(ascending=False)\n",
    "print('Proportion missing by indicator (top 15):')\n",
    "print(missing_by_indicator.head(15))\n",
    "\n",
    "# Missingness by country (latest decade to keep it small)\n",
    "latest_year = tidy['Year'].max()\n",
    "recent = tidy[tidy['Year'] >= latest_year - 10]\n",
    "missing_by_country = recent.groupby('Country_Name')['Value'].apply(lambda s: s.isna().mean()).sort_values(ascending=False)\n",
    "print('\\nProportion missing by country, last decade (top 15):')\n",
    "print(missing_by_country.head(15))"
   ]
  },
  {
   "cell_type": "markdown",
   "id": "83e91e8c",
   "metadata": {},
   "source": [
    "## Visualization 1: Single-indicator time series (example)"
   ]
  },
  {
   "cell_type": "code",
   "execution_count": null,
   "id": "f088d5dd",
   "metadata": {},
   "outputs": [],
   "source": [
    "example_indicator = 'EG.ELC.ACCS.ZS'   # Access to electricity (% of population)\n",
    "example_country = 'Arab World'\n",
    "\n",
    "sub = tidy[(tidy['Indicator_Code'] == example_indicator) & (tidy['Country_Name'] == example_country)].dropna(subset=['Value'])\n",
    "plt.figure(figsize=(9,5))\n",
    "plt.plot(sub['Year'], sub['Value'], marker='o')\n",
    "plt.title(f'Access to Electricity (% of pop) – {example_country}')\n",
    "plt.xlabel('Year')\n",
    "plt.ylabel('% of population')\n",
    "plt.grid(True)\n",
    "plt.show()"
   ]
  },
  {
   "cell_type": "markdown",
   "id": "8175ce82",
   "metadata": {},
   "source": [
    "## Visualization 2: Multi-country comparison (CO₂ per capita)"
   ]
  },
  {
   "cell_type": "code",
   "execution_count": null,
   "id": "80627cd6",
   "metadata": {},
   "outputs": [],
   "source": [
    "indicator = 'EN.ATM.CO2E.PC'\n",
    "countries = ['Arab World', 'United States', 'China']\n",
    "\n",
    "sub = tidy[(tidy['Indicator_Code'] == indicator) & (tidy['Country_Name'].isin(countries))].dropna(subset=['Value'])\n",
    "plt.figure(figsize=(10,6))\n",
    "for c in countries:\n",
    "    s = sub[sub['Country_Name']==c]\n",
    "    plt.plot(s['Year'], s['Value'], marker='o', label=c)\n",
    "plt.legend()\n",
    "plt.title('CO₂ Emissions per Capita (metric tons)')\n",
    "plt.xlabel('Year')\n",
    "plt.ylabel('t CO₂ per capita')\n",
    "plt.grid(True)\n",
    "plt.show()"
   ]
  },
  {
   "cell_type": "markdown",
   "id": "d9b78205",
   "metadata": {},
   "source": [
    "## Visualization 3: Distribution for latest year (CO₂ per capita)"
   ]
  },
  {
   "cell_type": "code",
   "execution_count": null,
   "id": "52616024",
   "metadata": {},
   "outputs": [],
   "source": [
    "co2 = tidy[tidy['Indicator_Code']==indicator].dropna(subset=['Value'])\n",
    "latest = int(co2['Year'].max())\n",
    "co2_latest = co2[co2['Year']==latest]['Value']\n",
    "plt.figure(figsize=(9,5))\n",
    "plt.hist(co2_latest, bins=30)\n",
    "plt.title(f'Distribution of CO₂ per Capita – {latest}')\n",
    "plt.xlabel('t CO₂ per capita')\n",
    "plt.ylabel('Count')\n",
    "plt.grid(True)\n",
    "plt.show()"
   ]
  },
  {
   "cell_type": "markdown",
   "id": "800c15da",
   "metadata": {},
   "source": [
    "## (Optional) Correlation across indicators for one country"
   ]
  },
  {
   "cell_type": "code",
   "execution_count": null,
   "id": "2ac118f3",
   "metadata": {},
   "outputs": [],
   "source": [
    "country = 'Arab World'\n",
    "country_wide = tidy[tidy['Country_Name']==country].pivot_table(index='Year', columns='Indicator_Code', values='Value')\n",
    "\n",
    "# Keep columns with enough data\n",
    "country_wide = country_wide.dropna(axis=1, thresh=int(0.8*len(country_wide)))\n",
    "corr = country_wide.corr()\n",
    "\n",
    "plt.figure(figsize=(10,8))\n",
    "plt.imshow(corr, aspect='auto')\n",
    "plt.colorbar(label='Correlation')\n",
    "plt.title(f'Indicator Correlations – {country}')\n",
    "plt.xticks(range(len(corr.columns)), corr.columns, rotation=90)\n",
    "plt.yticks(range(len(corr.columns)), corr.columns)\n",
    "plt.tight_layout()\n",
    "plt.show()"
   ]
  },
  {
   "cell_type": "markdown",
   "id": "be49e165",
   "metadata": {},
   "source": [
    "## Save a small tidy sample (optional)"
   ]
  },
  {
   "cell_type": "code",
   "execution_count": null,
   "id": "216a9427",
   "metadata": {},
   "outputs": [],
   "source": [
    "sample_inds = ['EN.ATM.CO2E.PC','EG.USE.COMM.FO.ZS','AG.LND.FRST.ZS',\n",
    "               'SP.DYN.LE00.IN','SE.ADT.LITR.ZS','SH.STA.SMSS.ZS',\n",
    "               'CC.EST','RL.EST','GE.EST']\n",
    "small = tidy[tidy['Indicator_Code'].isin(sample_inds) & tidy['Country_Name'].isin(['Arab World','United States','China'])]\n",
    "small = small.dropna(subset=['Value'])\n",
    "small.to_csv('/mnt/data/esg_tidy_sample.csv', index=False)\n",
    "print('Wrote /mnt/data/esg_tidy_sample.csv with shape', small.shape)\n"
   ]
  }
 ],
 "metadata": {},
 "nbformat": 4,
 "nbformat_minor": 5
}
